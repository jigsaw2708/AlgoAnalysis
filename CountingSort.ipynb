{
  "nbformat": 4,
  "nbformat_minor": 0,
  "metadata": {
    "colab": {
      "name": "CountingSort.ipynb",
      "provenance": [],
      "authorship_tag": "ABX9TyMAIm9twEoaZRfybViYSxQ+",
      "include_colab_link": true
    },
    "kernelspec": {
      "name": "python3",
      "display_name": "Python 3"
    },
    "language_info": {
      "name": "python"
    }
  },
  "cells": [
    {
      "cell_type": "markdown",
      "metadata": {
        "id": "view-in-github",
        "colab_type": "text"
      },
      "source": [
        "<a href=\"https://colab.research.google.com/github/jigsaw2708/AlgoAnalysis/blob/main/CountingSort.ipynb\" target=\"_parent\"><img src=\"https://colab.research.google.com/assets/colab-badge.svg\" alt=\"Open In Colab\"/></a>"
      ]
    },
    {
      "cell_type": "code",
      "metadata": {
        "colab": {
          "base_uri": "https://localhost:8080/"
        },
        "id": "UMb1LUa7EoT9",
        "outputId": "b9b4d159-d849-4ccb-f7f1-8b81fef3fe93"
      },
      "source": [
        "#Python program for counting sort \n",
        "  \n",
        "# The main function that sort the given string arr[] in  \n",
        "# alphabetical order \n",
        "def countSort(arr): \n",
        "  \n",
        "    # The output character array that will have sorted arr \n",
        "    output = [0 for i in range(256)] \n",
        "  \n",
        "    # Create a count array to store count of inidividul \n",
        "    # characters and initialize count array as 0 \n",
        "    count = [0 for i in range(256)] \n",
        "  \n",
        "    # For storing the resulting answer since the  \n",
        "    # string is immutable \n",
        "    ans = [\"\" for _ in arr] \n",
        "  \n",
        "    # Store count of each character \n",
        "    for i in arr: \n",
        "        count[ord(i)] += 1\n",
        "  \n",
        "    # Change count[i] so that count[i] now contains actual \n",
        "    # position of this character in output array \n",
        "    for i in range(256): \n",
        "        count[i] += count[i-1] \n",
        "  \n",
        "    # Build the output character array \n",
        "    for i in range(len(arr)): \n",
        "        output[count[ord(arr[i])]-1] = arr[i] \n",
        "        count[ord(arr[i])] -= 1\n",
        "  \n",
        "    # Copy the output array to arr, so that arr now \n",
        "    # contains sorted characters \n",
        "    for i in range(len(arr)): \n",
        "        ans[i] = output[i] \n",
        "    return ans  \n",
        "  \n",
        "# Driver program to test above function \n",
        "arr = \"thequickbrownfoxjumpsoverthelazydog\"\n",
        "ans = countSort(arr) \n",
        "print (\"Sorted character array is %s\"  %(\"\".join(ans)))\n"
      ],
      "execution_count": 2,
      "outputs": [
        {
          "output_type": "stream",
          "name": "stdout",
          "text": [
            "Sorted character array is abcdeeefghhijklmnoooopqrrsttuuvwxyz\n"
          ]
        }
      ]
    }
  ]
}